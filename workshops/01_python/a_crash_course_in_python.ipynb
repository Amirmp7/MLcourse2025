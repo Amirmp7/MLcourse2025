{
 "cells": [
  {
   "cell_type": "markdown",
   "id": "673f0ff0",
   "metadata": {},
   "source": [
    "# Variables and Math"
   ]
  },
  {
   "cell_type": "code",
   "execution_count": 1,
   "id": "2259ca05",
   "metadata": {},
   "outputs": [
    {
     "name": "stdout",
     "output_type": "stream",
     "text": [
      "Hello World!\n",
      "x = 2.4\n",
      "z = None\n"
     ]
    }
   ],
   "source": [
    "# You don't need to declare the type of variables. Indeed, in Python, we have dynamic data types rather than static type checking.\n",
    "x = 2.4\n",
    "y = \"Hello World!\"\n",
    "z = None\n",
    "\n",
    "print(y)\n",
    "print(\"x =\", x)\n",
    "print(\"z =\", z)"
   ]
  },
  {
   "cell_type": "code",
   "execution_count": 2,
   "id": "e5d26175",
   "metadata": {},
   "outputs": [
    {
     "name": "stdout",
     "output_type": "stream",
     "text": [
      "6.4 4.8 1.0 79.62623999999998 0.3999999999999999 2.5\n"
     ]
    }
   ],
   "source": [
    "# Addition, Multiplication, Division, Power, Remainder, Quotient.\n",
    "print(x + 4, x * 2, x // 2, x ** 5, x % 2, 5 / 2)"
   ]
  },
  {
   "cell_type": "code",
   "execution_count": 4,
   "id": "2ea5774d",
   "metadata": {},
   "outputs": [
    {
     "name": "stdout",
     "output_type": "stream",
     "text": [
      "0.6931471805599453\n",
      "2.718281828459045\n",
      "1.4142135623730951\n"
     ]
    }
   ],
   "source": [
    "# Importing other modules by using * will import all of their content. However, it is recommended \n",
    "# to explicitly mention the functions you need while importing to avoid complications such as circular importing.\n",
    "from math import *\n",
    "\n",
    "# It is better do this.\n",
    "from math import log, exp, sqrt\n",
    "\n",
    "print(log(2))\n",
    "print(exp(1))\n",
    "print(sqrt(2))"
   ]
  },
  {
   "cell_type": "code",
   "execution_count": 5,
   "id": "4c69f545",
   "metadata": {},
   "outputs": [
    {
     "ename": "NameError",
     "evalue": "name 'arcsin' is not defined",
     "output_type": "error",
     "traceback": [
      "\u001b[1;31m---------------------------------------------------------------------------\u001b[0m",
      "\u001b[1;31mNameError\u001b[0m                                 Traceback (most recent call last)",
      "\u001b[1;32mc:\\Users\\Hosein Rahnama\\Desktop\\MLcourse\\A Crash Course in Python!.ipynb Cell 5\u001b[0m in \u001b[0;36m<module>\u001b[1;34m\u001b[0m\n\u001b[0;32m      <a href='vscode-notebook-cell:/c%3A/Users/Hosein%20Rahnama/Desktop/MLcourse/A%20Crash%20Course%20in%20Python%21.ipynb#W5sZmlsZQ%3D%3D?line=0'>1</a>\u001b[0m \u001b[39m# The math module does not have any arcsin function.\u001b[39;00m\n\u001b[1;32m----> <a href='vscode-notebook-cell:/c%3A/Users/Hosein%20Rahnama/Desktop/MLcourse/A%20Crash%20Course%20in%20Python%21.ipynb#W5sZmlsZQ%3D%3D?line=1'>2</a>\u001b[0m \u001b[39mprint\u001b[39m(arcsin(\u001b[39m1\u001b[39m))\n",
      "\u001b[1;31mNameError\u001b[0m: name 'arcsin' is not defined"
     ]
    }
   ],
   "source": [
    "# The math module does not have any arcsin function.\n",
    "print(arcsin(1))"
   ]
  },
  {
   "cell_type": "code",
   "execution_count": 6,
   "id": "95898b95",
   "metadata": {},
   "outputs": [
    {
     "data": {
      "text/plain": [
       "3.141592653589793"
      ]
     },
     "execution_count": 6,
     "metadata": {},
     "output_type": "execute_result"
    }
   ],
   "source": [
    "# You can use numpy package for a wide range of numerical and computational tasks.\n",
    "# Before running this cell make sure that the numpy package is installed. You can install it by using \n",
    "# the command `pip install numpy` in the shell or command line.\n",
    "import numpy as np\n",
    "\n",
    "2 * np.arcsin(1)"
   ]
  },
  {
   "cell_type": "markdown",
   "id": "43e2be77",
   "metadata": {},
   "source": [
    "# Lists"
   ]
  },
  {
   "cell_type": "code",
   "execution_count": 9,
   "id": "292a201e",
   "metadata": {},
   "outputs": [
    {
     "data": {
      "text/plain": [
       "[2, 'Tehran', 'Shiraz', 'Ahvaz']"
      ]
     },
     "execution_count": 9,
     "metadata": {},
     "output_type": "execute_result"
    }
   ],
   "source": [
    "# Just mentioning the name of a variable at the end of the cell will lead to printing that variable. This is a perk of using jupyter notebooks.\n",
    "L = [2, \"Tehran\", \"Shiraz\" , \"Ahvaz\"]\n",
    "K = [\"X\", \"Y\"]\n",
    "\n",
    "L"
   ]
  },
  {
   "cell_type": "code",
   "execution_count": 10,
   "id": "b1fa07f2",
   "metadata": {},
   "outputs": [
    {
     "name": "stdout",
     "output_type": "stream",
     "text": [
      "Length of L =  4\n",
      "Length of K =  2\n"
     ]
    }
   ],
   "source": [
    "# The len function gives the length of the corresponding lists.\n",
    "print(\"Length of L = \", len(L))\n",
    "print(\"Length of K = \", len(K))"
   ]
  },
  {
   "cell_type": "code",
   "execution_count": 11,
   "id": "c6f9a473",
   "metadata": {},
   "outputs": [
    {
     "ename": "IndexError",
     "evalue": "list index out of range",
     "output_type": "error",
     "traceback": [
      "\u001b[1;31m---------------------------------------------------------------------------\u001b[0m",
      "\u001b[1;31mIndexError\u001b[0m                                Traceback (most recent call last)",
      "\u001b[1;32mc:\\Users\\Hosein Rahnama\\Desktop\\MLcourse\\A Crash Course in Python!.ipynb Cell 10\u001b[0m in \u001b[0;36m<module>\u001b[1;34m\u001b[0m\n\u001b[0;32m      <a href='vscode-notebook-cell:/c%3A/Users/Hosein%20Rahnama/Desktop/MLcourse/A%20Crash%20Course%20in%20Python%21.ipynb#X13sZmlsZQ%3D%3D?line=0'>1</a>\u001b[0m \u001b[39m# The indexing starts from 0, so in a list of length 4, the index for the last element is 3.\u001b[39;00m\n\u001b[1;32m----> <a href='vscode-notebook-cell:/c%3A/Users/Hosein%20Rahnama/Desktop/MLcourse/A%20Crash%20Course%20in%20Python%21.ipynb#X13sZmlsZQ%3D%3D?line=1'>2</a>\u001b[0m L[\u001b[39m4\u001b[39;49m]\n",
      "\u001b[1;31mIndexError\u001b[0m: list index out of range"
     ]
    }
   ],
   "source": [
    "# The indexing starts from 0, so in a list of length 4, the index for the last element is 3.\n",
    "L[4]"
   ]
  },
  {
   "cell_type": "code",
   "execution_count": 14,
   "id": "1fa14237",
   "metadata": {},
   "outputs": [
    {
     "data": {
      "text/plain": [
       "'Ahvaz'"
      ]
     },
     "execution_count": 14,
     "metadata": {},
     "output_type": "execute_result"
    }
   ],
   "source": [
    "# You can also use negative indexes to access elements. Index -1 refers to the last element, -2 to the one before the last and so on.\n",
    "L[-1]"
   ]
  },
  {
   "cell_type": "code",
   "execution_count": 15,
   "id": "da2cbff7",
   "metadata": {},
   "outputs": [
    {
     "data": {
      "text/plain": [
       "['Shiraz', 'Ahvaz']"
      ]
     },
     "execution_count": 15,
     "metadata": {},
     "output_type": "execute_result"
    }
   ],
   "source": [
    "# From index 2 to the end.\n",
    "L[2:]"
   ]
  },
  {
   "cell_type": "code",
   "execution_count": 17,
   "id": "1d1d7aea",
   "metadata": {},
   "outputs": [
    {
     "data": {
      "text/plain": [
       "[2, 'Tehran']"
      ]
     },
     "execution_count": 17,
     "metadata": {},
     "output_type": "execute_result"
    }
   ],
   "source": [
    "# From the beginning to before index 2.\n",
    "L[:2]"
   ]
  },
  {
   "cell_type": "code",
   "execution_count": 21,
   "id": "0d80d2fa",
   "metadata": {},
   "outputs": [
    {
     "data": {
      "text/plain": [
       "[2, 'Tehran', 'Shiraz', 'Ahvaz', 'Mashad', ['X', 'Y'], 'Mashad']"
      ]
     },
     "execution_count": 21,
     "metadata": {},
     "output_type": "execute_result"
    }
   ],
   "source": [
    "# Append an element to a list.\n",
    "L.append('Mashad')\n",
    "L"
   ]
  },
  {
   "cell_type": "code",
   "execution_count": 25,
   "id": "9642c3df",
   "metadata": {},
   "outputs": [
    {
     "data": {
      "text/plain": [
       "[2,\n",
       " 'Tehran',\n",
       " 'Shiraz',\n",
       " 'Ahvaz',\n",
       " 'Mashad',\n",
       " ['X', 'Y'],\n",
       " 'Mashad',\n",
       " ['X', 'Y'],\n",
       " ['X', 'Y'],\n",
       " 'X',\n",
       " 'Y']"
      ]
     },
     "execution_count": 25,
     "metadata": {},
     "output_type": "execute_result"
    }
   ],
   "source": [
    "# Concatenate lists.\n",
    "M = L + K\n",
    "M"
   ]
  },
  {
   "cell_type": "code",
   "execution_count": 27,
   "id": "d317db31",
   "metadata": {},
   "outputs": [
    {
     "data": {
      "text/plain": [
       "[2,\n",
       " 'Tehran',\n",
       " 'Shiraz',\n",
       " 'Ahvaz',\n",
       " 'Mashad',\n",
       " ['X', 'Y'],\n",
       " 'Mashad',\n",
       " ['X', 'Y'],\n",
       " ['X', 'Y'],\n",
       " 'X',\n",
       " 'Y',\n",
       " 'X',\n",
       " 'Y']"
      ]
     },
     "execution_count": 27,
     "metadata": {},
     "output_type": "execute_result"
    }
   ],
   "source": [
    "# The same as above.\n",
    "L.extend(K)\n",
    "L"
   ]
  },
  {
   "cell_type": "code",
   "execution_count": 28,
   "id": "53d575a5",
   "metadata": {},
   "outputs": [
    {
     "data": {
      "text/plain": [
       "1"
      ]
     },
     "execution_count": 28,
     "metadata": {},
     "output_type": "execute_result"
    }
   ],
   "source": [
    "L.index(\"Tehran\")"
   ]
  },
  {
   "cell_type": "code",
   "execution_count": 29,
   "id": "eed7e804",
   "metadata": {},
   "outputs": [
    {
     "ename": "ValueError",
     "evalue": "'Paris' is not in list",
     "output_type": "error",
     "traceback": [
      "\u001b[1;31m---------------------------------------------------------------------------\u001b[0m",
      "\u001b[1;31mValueError\u001b[0m                                Traceback (most recent call last)",
      "\u001b[1;32mc:\\Users\\Hosein Rahnama\\Desktop\\MLcourse\\A Crash Course in Python!.ipynb Cell 18\u001b[0m in \u001b[0;36m<module>\u001b[1;34m\u001b[0m\n\u001b[1;32m----> <a href='vscode-notebook-cell:/c%3A/Users/Hosein%20Rahnama/Desktop/MLcourse/A%20Crash%20Course%20in%20Python%21.ipynb#X25sZmlsZQ%3D%3D?line=0'>1</a>\u001b[0m L\u001b[39m.\u001b[39;49mindex(\u001b[39m'\u001b[39;49m\u001b[39mParis\u001b[39;49m\u001b[39m'\u001b[39;49m)\n",
      "\u001b[1;31mValueError\u001b[0m: 'Paris' is not in list"
     ]
    }
   ],
   "source": [
    "L.index('Paris')"
   ]
  },
  {
   "cell_type": "code",
   "execution_count": 30,
   "id": "595e68d0",
   "metadata": {},
   "outputs": [
    {
     "data": {
      "text/plain": [
       "[2,\n",
       " 'Shiraz',\n",
       " 'Ahvaz',\n",
       " 'Mashad',\n",
       " ['X', 'Y'],\n",
       " 'Mashad',\n",
       " ['X', 'Y'],\n",
       " ['X', 'Y'],\n",
       " 'X',\n",
       " 'Y',\n",
       " 'X',\n",
       " 'Y']"
      ]
     },
     "execution_count": 30,
     "metadata": {},
     "output_type": "execute_result"
    }
   ],
   "source": [
    "L.remove('Tehran')\n",
    "L"
   ]
  },
  {
   "cell_type": "markdown",
   "id": "8a4da891",
   "metadata": {},
   "source": [
    "## List Comprehensions"
   ]
  },
  {
   "cell_type": "code",
   "execution_count": 31,
   "id": "8bbf1a29",
   "metadata": {},
   "outputs": [
    {
     "data": {
      "text/plain": [
       "['Shiraz', 'Ahvaz', 'Mashad', 'Mashad', 'X', 'Y', 'X', 'Y']"
      ]
     },
     "execution_count": 31,
     "metadata": {},
     "output_type": "execute_result"
    }
   ],
   "source": [
    "# List comprehensions allow you to write a for loop in a natural way in just one line of code.\n",
    "A = [l for l in L if type(l) == str]\n",
    "A"
   ]
  },
  {
   "cell_type": "code",
   "execution_count": 32,
   "id": "7051508f",
   "metadata": {},
   "outputs": [
    {
     "data": {
      "text/plain": [
       "range(0, 5)"
      ]
     },
     "execution_count": 32,
     "metadata": {},
     "output_type": "execute_result"
    }
   ],
   "source": [
    "range(5)"
   ]
  },
  {
   "cell_type": "code",
   "execution_count": 33,
   "id": "455ff63f",
   "metadata": {},
   "outputs": [
    {
     "data": {
      "text/plain": [
       "[0, 1, 2, 3, 4]"
      ]
     },
     "execution_count": 33,
     "metadata": {},
     "output_type": "execute_result"
    }
   ],
   "source": [
    "list(range(5))"
   ]
  },
  {
   "cell_type": "code",
   "execution_count": 34,
   "id": "026f13e6",
   "metadata": {},
   "outputs": [
    {
     "data": {
      "text/plain": [
       "[0, 2, 4, 6, 8, 10]"
      ]
     },
     "execution_count": 34,
     "metadata": {},
     "output_type": "execute_result"
    }
   ],
   "source": [
    "B = [2 * x for x in range(6)]\n",
    "B"
   ]
  },
  {
   "cell_type": "code",
   "execution_count": 35,
   "id": "ab32b281",
   "metadata": {},
   "outputs": [
    {
     "data": {
      "text/plain": [
       "[(0, 0),\n",
       " (1, 1),\n",
       " (2, 4),\n",
       " (3, 9),\n",
       " (4, 16),\n",
       " (5, 25),\n",
       " (6, 36),\n",
       " (7, 49),\n",
       " (8, 64),\n",
       " (9, 81)]"
      ]
     },
     "execution_count": 35,
     "metadata": {},
     "output_type": "execute_result"
    }
   ],
   "source": [
    "C = [(x, x ** 2) for x in range(10)]\n",
    "C"
   ]
  },
  {
   "cell_type": "markdown",
   "id": "1e875f4c",
   "metadata": {},
   "source": [
    "# Strings"
   ]
  },
  {
   "cell_type": "code",
   "execution_count": 36,
   "id": "70964861",
   "metadata": {},
   "outputs": [
    {
     "data": {
      "text/plain": [
       "'I live in Tehran.'"
      ]
     },
     "execution_count": 36,
     "metadata": {},
     "output_type": "execute_result"
    }
   ],
   "source": [
    "x = \"I live in \"\n",
    "y = \"Tehran.\"\n",
    "\n",
    "z = x + y\n",
    "z"
   ]
  },
  {
   "cell_type": "code",
   "execution_count": 37,
   "id": "22dc1c64",
   "metadata": {},
   "outputs": [
    {
     "data": {
      "text/plain": [
       "'I'"
      ]
     },
     "execution_count": 37,
     "metadata": {},
     "output_type": "execute_result"
    }
   ],
   "source": [
    "x[0]"
   ]
  },
  {
   "cell_type": "code",
   "execution_count": 38,
   "id": "9c31b7b7",
   "metadata": {},
   "outputs": [
    {
     "data": {
      "text/plain": [
       "'e'"
      ]
     },
     "execution_count": 38,
     "metadata": {},
     "output_type": "execute_result"
    }
   ],
   "source": [
    "x[5]"
   ]
  },
  {
   "cell_type": "code",
   "execution_count": 39,
   "id": "48518fbb",
   "metadata": {},
   "outputs": [
    {
     "data": {
      "text/plain": [
       "'I live in Abadan.'"
      ]
     },
     "execution_count": 39,
     "metadata": {},
     "output_type": "execute_result"
    }
   ],
   "source": [
    "z.replace('Tehran', 'Abadan')"
   ]
  },
  {
   "cell_type": "code",
   "execution_count": 40,
   "id": "e6d6dc04",
   "metadata": {},
   "outputs": [
    {
     "data": {
      "text/plain": [
       "7"
      ]
     },
     "execution_count": 40,
     "metadata": {},
     "output_type": "execute_result"
    }
   ],
   "source": [
    "z.find('in')"
   ]
  },
  {
   "cell_type": "code",
   "execution_count": 41,
   "id": "1939e410",
   "metadata": {},
   "outputs": [
    {
     "data": {
      "text/plain": [
       "-1"
      ]
     },
     "execution_count": 41,
     "metadata": {},
     "output_type": "execute_result"
    }
   ],
   "source": [
    "z.find('London')"
   ]
  },
  {
   "cell_type": "code",
   "execution_count": 42,
   "id": "6e4b2000",
   "metadata": {},
   "outputs": [
    {
     "data": {
      "text/plain": [
       "['I', 'live', 'in', 'Tehran.']"
      ]
     },
     "execution_count": 42,
     "metadata": {},
     "output_type": "execute_result"
    }
   ],
   "source": [
    "z.split(' ')"
   ]
  },
  {
   "cell_type": "markdown",
   "id": "d6e1c300",
   "metadata": {},
   "source": [
    "# Conditionals"
   ]
  },
  {
   "cell_type": "code",
   "execution_count": 43,
   "id": "a002b354",
   "metadata": {},
   "outputs": [
    {
     "name": "stdout",
     "output_type": "stream",
     "text": [
      "x is greater than two!\n"
     ]
    }
   ],
   "source": [
    "x = 2.3\n",
    "\n",
    "if x > 2:\n",
    "    print(\"x is greater than two!\")\n",
    "elif x == 2:\n",
    "    print(\" x equals two!\")\n",
    "else:\n",
    "    print(\"x is less than two!\")"
   ]
  },
  {
   "cell_type": "markdown",
   "id": "a7e887a9",
   "metadata": {},
   "source": [
    "# Loops"
   ]
  },
  {
   "cell_type": "code",
   "execution_count": 44,
   "id": "dd1803f3",
   "metadata": {},
   "outputs": [
    {
     "name": "stdout",
     "output_type": "stream",
     "text": [
      "2\n",
      "Shiraz\n",
      "Ahvaz\n",
      "Mashad\n",
      "['X', 'Y']\n",
      "Mashad\n",
      "['X', 'Y']\n",
      "['X', 'Y']\n",
      "X\n",
      "Y\n",
      "X\n",
      "Y\n"
     ]
    }
   ],
   "source": [
    "for x in L:\n",
    "    print(x)"
   ]
  },
  {
   "cell_type": "code",
   "execution_count": 45,
   "id": "3e82b0b6",
   "metadata": {},
   "outputs": [
    {
     "name": "stdout",
     "output_type": "stream",
     "text": [
      "0 1 2 3 4 5 "
     ]
    }
   ],
   "source": [
    "for x in range(10):\n",
    "    print(x, end=' ')\n",
    "    if x>=5:\n",
    "        break"
   ]
  },
  {
   "cell_type": "code",
   "execution_count": 46,
   "id": "4db53700",
   "metadata": {},
   "outputs": [
    {
     "name": "stdout",
     "output_type": "stream",
     "text": [
      "2\n",
      "Shiraz\n",
      "Ahvaz\n",
      "Mashad\n"
     ]
    }
   ],
   "source": [
    "i = 0\n",
    "x = ''\n",
    "while x != 'Mashad':\n",
    "    x = L[i]\n",
    "    print(x)\n",
    "    i += 1"
   ]
  },
  {
   "cell_type": "markdown",
   "id": "d00fcce4",
   "metadata": {},
   "source": [
    "# Dictionaries"
   ]
  },
  {
   "cell_type": "code",
   "execution_count": 47,
   "id": "890ab21f",
   "metadata": {},
   "outputs": [
    {
     "data": {
      "text/plain": [
       "'male'"
      ]
     },
     "execution_count": 47,
     "metadata": {},
     "output_type": "execute_result"
    }
   ],
   "source": [
    "D = {'Hamid': 'male',\n",
    "     'Elham': 'female',\n",
    "     'Siavash': 'male'}\n",
    "\n",
    "D['Hamid']"
   ]
  },
  {
   "cell_type": "code",
   "execution_count": 48,
   "id": "edd1dc3f",
   "metadata": {},
   "outputs": [
    {
     "ename": "KeyError",
     "evalue": "'Ahmad'",
     "output_type": "error",
     "traceback": [
      "\u001b[1;31m---------------------------------------------------------------------------\u001b[0m",
      "\u001b[1;31mKeyError\u001b[0m                                  Traceback (most recent call last)",
      "\u001b[1;32mc:\\Users\\Hosein Rahnama\\Desktop\\MLcourse\\A Crash Course in Python!.ipynb Cell 42\u001b[0m in \u001b[0;36m<module>\u001b[1;34m\u001b[0m\n\u001b[0;32m      <a href='vscode-notebook-cell:/c%3A/Users/Hosein%20Rahnama/Desktop/MLcourse/A%20Crash%20Course%20in%20Python%21.ipynb#X61sZmlsZQ%3D%3D?line=0'>1</a>\u001b[0m \u001b[39m# There is no key named as Ahmad\u001b[39;00m\n\u001b[1;32m----> <a href='vscode-notebook-cell:/c%3A/Users/Hosein%20Rahnama/Desktop/MLcourse/A%20Crash%20Course%20in%20Python%21.ipynb#X61sZmlsZQ%3D%3D?line=1'>2</a>\u001b[0m D[\u001b[39m'\u001b[39;49m\u001b[39mAhmad\u001b[39;49m\u001b[39m'\u001b[39;49m]\n",
      "\u001b[1;31mKeyError\u001b[0m: 'Ahmad'"
     ]
    }
   ],
   "source": [
    "# There is no key named as Ahmad\n",
    "D['Ahmad']"
   ]
  },
  {
   "cell_type": "code",
   "execution_count": 49,
   "id": "0f4e71c1",
   "metadata": {},
   "outputs": [],
   "source": [
    "# Update the value of the corresponding key\n",
    "D['Ahmad'] = 'male'"
   ]
  },
  {
   "cell_type": "code",
   "execution_count": 50,
   "id": "86e260ac",
   "metadata": {},
   "outputs": [
    {
     "data": {
      "text/plain": [
       "'male'"
      ]
     },
     "execution_count": 50,
     "metadata": {},
     "output_type": "execute_result"
    }
   ],
   "source": [
    "# Access the value of the corresponding key\n",
    "D['Ahmad']"
   ]
  },
  {
   "cell_type": "markdown",
   "id": "dc805028",
   "metadata": {},
   "source": [
    "# Functions"
   ]
  },
  {
   "cell_type": "code",
   "execution_count": 2,
   "id": "0201b7d4",
   "metadata": {},
   "outputs": [
    {
     "data": {
      "text/plain": [
       "3"
      ]
     },
     "execution_count": 2,
     "metadata": {},
     "output_type": "execute_result"
    }
   ],
   "source": [
    "def func(x, y):\n",
    "    if x > y:\n",
    "        return x\n",
    "    else:\n",
    "        return y\n",
    "\n",
    "func(2, 3)"
   ]
  },
  {
   "cell_type": "code",
   "execution_count": 3,
   "id": "9ae8344f",
   "metadata": {},
   "outputs": [
    {
     "data": {
      "text/plain": [
       "(5, 6)"
      ]
     },
     "execution_count": 3,
     "metadata": {},
     "output_type": "execute_result"
    }
   ],
   "source": [
    "# You can return multiple values\n",
    "def f(x, y):\n",
    "    return x + y, x * y\n",
    "\n",
    "f(2, 3)"
   ]
  },
  {
   "cell_type": "markdown",
   "id": "7a04f685",
   "metadata": {},
   "source": [
    "# Classes"
   ]
  },
  {
   "cell_type": "code",
   "execution_count": 57,
   "id": "ce9f9fc1",
   "metadata": {},
   "outputs": [
    {
     "name": "stdout",
     "output_type": "stream",
     "text": [
      "a = (0, 1) , b = (2, 1)\n",
      "a + b = (2, 2)\n",
      "a * b = (-1, 2)\n"
     ]
    }
   ],
   "source": [
    "class Complex:\n",
    "    # This is the constructor of the class. You can use default arguments for the input variables. \n",
    "    def __init__(self, real = 0, imaginary = 0):\n",
    "        self.real = real\n",
    "        self.imaginary = imaginary\n",
    "\n",
    "    # This method tells how to print the objects of type Complex. The methods with two underlines on both sides of their name\n",
    "    # are called magic or dunder methods.\n",
    "    def __str__(self):\n",
    "        return f'({self.get_real()}, {self.get_imaginary()})'\n",
    "\n",
    "    def get_real(self):\n",
    "        return self.real\n",
    "\n",
    "    def get_imaginary(self):\n",
    "        return self.imaginary\n",
    "\n",
    "    def sum(self, b):\n",
    "        c = Complex()\n",
    "        c.real = self.real + b.real\n",
    "        c.imaginary = self.imaginary + b.imaginary\n",
    "        return c\n",
    "\n",
    "    def multiply(self, b):\n",
    "        c = Complex()\n",
    "        c.real = self.real * b.real - self.imaginary * b.imaginary\n",
    "        c.imaginary = self.real * b.imaginary + self.imaginary * b.real\n",
    "        return c\n",
    "\n",
    "a = Complex(0, 1)\n",
    "b = Complex(2, 1)\n",
    "\n",
    "print(\"a =\", a, \", b =\", b)\n",
    "print(\"a + b =\", a.sum(b))\n",
    "print(\"a * b =\", a.multiply(b))"
   ]
  },
  {
   "cell_type": "markdown",
   "id": "c8b17966",
   "metadata": {},
   "source": [
    "# File I/O"
   ]
  },
  {
   "cell_type": "code",
   "execution_count": 58,
   "id": "ef345cd6",
   "metadata": {},
   "outputs": [],
   "source": [
    "f = open(\"myfile.txt\", \"w\")\n",
    "print(\"1 \\n 2 \\n 3 \\n 4\", file = f)\n",
    "f.close()"
   ]
  },
  {
   "cell_type": "code",
   "execution_count": 59,
   "id": "affde98f",
   "metadata": {},
   "outputs": [
    {
     "data": {
      "text/plain": [
       "['1 \\n', ' 2 \\n', ' 3 \\n', ' 4\\n']"
      ]
     },
     "execution_count": 59,
     "metadata": {},
     "output_type": "execute_result"
    }
   ],
   "source": [
    "f = open(\"myfile.txt\", 'r')\n",
    "L = f.readlines()\n",
    "f.close()\n",
    "L"
   ]
  },
  {
   "cell_type": "code",
   "execution_count": 60,
   "id": "81bf2eaa",
   "metadata": {},
   "outputs": [],
   "source": [
    "# It is a good practice to use context managers while using resources such as files to ensure closing them after you are done.\n",
    "with open(\"myfile.txt\", 'r') as f:\n",
    "    L = f.readlines()"
   ]
  },
  {
   "cell_type": "code",
   "execution_count": 61,
   "id": "d0ecdcb1",
   "metadata": {},
   "outputs": [
    {
     "data": {
      "text/plain": [
       "['1', '2', '3', '4']"
      ]
     },
     "execution_count": 61,
     "metadata": {},
     "output_type": "execute_result"
    }
   ],
   "source": [
    "# strip function and its other variants remove white spaces and end-of-line character in a string.\n",
    "K = [l.lstrip().rstrip() for l in L]\n",
    "K"
   ]
  },
  {
   "cell_type": "code",
   "execution_count": 63,
   "id": "30bb2cf0",
   "metadata": {},
   "outputs": [
    {
     "data": {
      "text/plain": [
       "[1.0, 2.0, 3.0, 4.0]"
      ]
     },
     "execution_count": 63,
     "metadata": {},
     "output_type": "execute_result"
    }
   ],
   "source": [
    "# You can cast to different types as shown below. Integers are casted to floats.\n",
    "M = [float(x) for x in K]\n",
    "M"
   ]
  },
  {
   "cell_type": "markdown",
   "id": "4f127c2f",
   "metadata": {},
   "source": [
    "# Exercises"
   ]
  },
  {
   "cell_type": "markdown",
   "id": "78e4f8e5",
   "metadata": {},
   "source": [
    "1. Write a function that takes a date of the form jan-08-2018 and converts it to the form 08/01/2018."
   ]
  },
  {
   "cell_type": "markdown",
   "id": "4e5c5776",
   "metadata": {},
   "source": [
    "2. Write a function that computes $\\exp(x)$ using the formula $\\exp(x)=1+x+x^2/2!+x^3/3!+...$ . Stop when error is less than 0.001. Implement the factorial yourself."
   ]
  },
  {
   "cell_type": "markdown",
   "id": "67471e35",
   "metadata": {},
   "source": [
    "# Further Learning"
   ]
  },
  {
   "cell_type": "markdown",
   "id": "6ea94812",
   "metadata": {},
   "source": [
    "Charles Severance, Python for Everybody (Available online)."
   ]
  }
 ],
 "metadata": {
  "kernelspec": {
   "display_name": "Python 3.10.2 64-bit",
   "language": "python",
   "name": "python3"
  },
  "language_info": {
   "codemirror_mode": {
    "name": "ipython",
    "version": 3
   },
   "file_extension": ".py",
   "mimetype": "text/x-python",
   "name": "python",
   "nbconvert_exporter": "python",
   "pygments_lexer": "ipython3",
   "version": "3.10.2"
  },
  "vscode": {
   "interpreter": {
    "hash": "e064f82d8d2a8f5e0c4945f1b0bada0315b9884ce725e7e4058ce365b12b6274"
   }
  }
 },
 "nbformat": 4,
 "nbformat_minor": 5
}
