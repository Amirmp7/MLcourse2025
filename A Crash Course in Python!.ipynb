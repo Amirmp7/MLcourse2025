{
 "cells": [
  {
   "cell_type": "markdown",
   "id": "673f0ff0",
   "metadata": {},
   "source": [
    "# Variables and math"
   ]
  },
  {
   "cell_type": "code",
   "execution_count": null,
   "id": "44e9977c",
   "metadata": {},
   "outputs": [],
   "source": []
  },
  {
   "cell_type": "code",
   "execution_count": 1,
   "id": "2259ca05",
   "metadata": {},
   "outputs": [
    {
     "name": "stdout",
     "output_type": "stream",
     "text": [
      "Hello world!\n",
      "x= 2.4\n",
      "z= None\n"
     ]
    }
   ],
   "source": [
    "x=2.4\n",
    "y=\"Hello world!\"\n",
    "z=None\n",
    "\n",
    "print(y)\n",
    "print(\"x=\", x)\n",
    "print(\"z=\", z)"
   ]
  },
  {
   "cell_type": "code",
   "execution_count": 2,
   "id": "e5d26175",
   "metadata": {},
   "outputs": [
    {
     "name": "stdout",
     "output_type": "stream",
     "text": [
      "6.4 4.8 79.62623999999998\n"
     ]
    }
   ],
   "source": [
    "# Addition, multiplication, power\n",
    "print(x+4, x*2, x**5)"
   ]
  },
  {
   "cell_type": "code",
   "execution_count": 7,
   "id": "2ea5774d",
   "metadata": {},
   "outputs": [
    {
     "name": "stdout",
     "output_type": "stream",
     "text": [
      "0.6931471805599453\n",
      "2.718281828459045\n",
      "1.4142135623730951\n"
     ]
    }
   ],
   "source": [
    "from math import *\n",
    "\n",
    "print(log(2))\n",
    "print(exp(1))\n",
    "print(sqrt(2))\n"
   ]
  },
  {
   "cell_type": "code",
   "execution_count": 8,
   "id": "4c69f545",
   "metadata": {},
   "outputs": [
    {
     "ename": "NameError",
     "evalue": "name 'arcsin' is not defined",
     "output_type": "error",
     "traceback": [
      "\u001b[1;31m---------------------------------------------------------------------------\u001b[0m",
      "\u001b[1;31mNameError\u001b[0m                                 Traceback (most recent call last)",
      "\u001b[1;32m~\\AppData\\Local\\Temp/ipykernel_26212/1317481330.py\u001b[0m in \u001b[0;36m<module>\u001b[1;34m\u001b[0m\n\u001b[1;32m----> 1\u001b[1;33m \u001b[0mprint\u001b[0m\u001b[1;33m(\u001b[0m\u001b[0marcsin\u001b[0m\u001b[1;33m(\u001b[0m\u001b[1;36m1\u001b[0m\u001b[1;33m)\u001b[0m\u001b[1;33m)\u001b[0m\u001b[1;33m\u001b[0m\u001b[1;33m\u001b[0m\u001b[0m\n\u001b[0m",
      "\u001b[1;31mNameError\u001b[0m: name 'arcsin' is not defined"
     ]
    }
   ],
   "source": [
    "print(arcsin(1))"
   ]
  },
  {
   "cell_type": "code",
   "execution_count": 12,
   "id": "95898b95",
   "metadata": {},
   "outputs": [
    {
     "data": {
      "text/plain": [
       "3.141592653589793"
      ]
     },
     "execution_count": 12,
     "metadata": {},
     "output_type": "execute_result"
    }
   ],
   "source": [
    "import numpy as np\n",
    "\n",
    "2*np.arcsin(1)"
   ]
  },
  {
   "cell_type": "markdown",
   "id": "43e2be77",
   "metadata": {},
   "source": [
    "# Lists"
   ]
  },
  {
   "cell_type": "code",
   "execution_count": 29,
   "id": "292a201e",
   "metadata": {},
   "outputs": [
    {
     "data": {
      "text/plain": [
       "[2, 'Tehran', 'Shiraz', 'Ahvaz']"
      ]
     },
     "execution_count": 29,
     "metadata": {},
     "output_type": "execute_result"
    }
   ],
   "source": [
    "L=[ 2, \"Tehran\", \"Shiraz\" , \"Ahvaz\"]\n",
    "K=[\"X\", \"Y\"]\n",
    "\n",
    "L"
   ]
  },
  {
   "cell_type": "code",
   "execution_count": 23,
   "id": "b1fa07f2",
   "metadata": {},
   "outputs": [
    {
     "name": "stdout",
     "output_type": "stream",
     "text": [
      "4 2\n"
     ]
    }
   ],
   "source": [
    "print(len(L), len(K))"
   ]
  },
  {
   "cell_type": "code",
   "execution_count": 25,
   "id": "c6f9a473",
   "metadata": {},
   "outputs": [
    {
     "ename": "IndexError",
     "evalue": "list index out of range",
     "output_type": "error",
     "traceback": [
      "\u001b[1;31m---------------------------------------------------------------------------\u001b[0m",
      "\u001b[1;31mIndexError\u001b[0m                                Traceback (most recent call last)",
      "\u001b[1;32m~\\AppData\\Local\\Temp/ipykernel_26212/386920573.py\u001b[0m in \u001b[0;36m<module>\u001b[1;34m\u001b[0m\n\u001b[1;32m----> 1\u001b[1;33m \u001b[0mL\u001b[0m\u001b[1;33m[\u001b[0m\u001b[1;36m4\u001b[0m\u001b[1;33m]\u001b[0m\u001b[1;33m\u001b[0m\u001b[1;33m\u001b[0m\u001b[0m\n\u001b[0m",
      "\u001b[1;31mIndexError\u001b[0m: list index out of range"
     ]
    }
   ],
   "source": [
    "L[4]"
   ]
  },
  {
   "cell_type": "code",
   "execution_count": 26,
   "id": "1fa14237",
   "metadata": {},
   "outputs": [
    {
     "data": {
      "text/plain": [
       "'Ahvaz'"
      ]
     },
     "execution_count": 26,
     "metadata": {},
     "output_type": "execute_result"
    }
   ],
   "source": [
    "L[-1]"
   ]
  },
  {
   "cell_type": "code",
   "execution_count": 27,
   "id": "da2cbff7",
   "metadata": {},
   "outputs": [
    {
     "data": {
      "text/plain": [
       "['Shiraz', 'Ahvaz']"
      ]
     },
     "execution_count": 27,
     "metadata": {},
     "output_type": "execute_result"
    }
   ],
   "source": [
    "# From index 2 on\n",
    "L[2:]"
   ]
  },
  {
   "cell_type": "code",
   "execution_count": 28,
   "id": "1d1d7aea",
   "metadata": {},
   "outputs": [
    {
     "data": {
      "text/plain": [
       "[2, 'Tehran']"
      ]
     },
     "execution_count": 28,
     "metadata": {},
     "output_type": "execute_result"
    }
   ],
   "source": [
    "L[:2]"
   ]
  },
  {
   "cell_type": "code",
   "execution_count": 32,
   "id": "0d80d2fa",
   "metadata": {},
   "outputs": [
    {
     "data": {
      "text/plain": [
       "[2, 'Tehran', 'Shiraz', 'Ahvaz', 'Mashad', 'Mashad']"
      ]
     },
     "execution_count": 32,
     "metadata": {},
     "output_type": "execute_result"
    }
   ],
   "source": [
    "L.append('Mashad')\n",
    "L"
   ]
  },
  {
   "cell_type": "code",
   "execution_count": 33,
   "id": "c55986b7",
   "metadata": {},
   "outputs": [
    {
     "data": {
      "text/plain": [
       "[2, 'Tehran', 'Shiraz', 'Ahvaz', 'Mashad', 'Mashad', ['X', 'Y']]"
      ]
     },
     "execution_count": 33,
     "metadata": {},
     "output_type": "execute_result"
    }
   ],
   "source": [
    "M=L.append(K)\n",
    "M"
   ]
  },
  {
   "cell_type": "code",
   "execution_count": 35,
   "id": "9642c3df",
   "metadata": {},
   "outputs": [
    {
     "data": {
      "text/plain": [
       "[2, 'Tehran', 'Shiraz', 'Ahvaz', 'Mashad', 'Mashad', ['X', 'Y'], 'X', 'Y']"
      ]
     },
     "execution_count": 35,
     "metadata": {},
     "output_type": "execute_result"
    }
   ],
   "source": [
    "M=L+K\n",
    "M"
   ]
  },
  {
   "cell_type": "code",
   "execution_count": 18,
   "id": "d317db31",
   "metadata": {},
   "outputs": [
    {
     "data": {
      "text/plain": [
       "[2, 'Tehran', 'Shiraz', 'Tabriz', 'Tehran', 'Tabriz', 'Tehran']"
      ]
     },
     "execution_count": 18,
     "metadata": {},
     "output_type": "execute_result"
    }
   ],
   "source": [
    "L.extend(K)\n",
    "\n",
    "L"
   ]
  },
  {
   "cell_type": "code",
   "execution_count": 47,
   "id": "53d575a5",
   "metadata": {},
   "outputs": [
    {
     "data": {
      "text/plain": [
       "1"
      ]
     },
     "execution_count": 47,
     "metadata": {},
     "output_type": "execute_result"
    }
   ],
   "source": [
    "L.index(\"Tehran\")"
   ]
  },
  {
   "cell_type": "code",
   "execution_count": 48,
   "id": "eed7e804",
   "metadata": {},
   "outputs": [
    {
     "ename": "ValueError",
     "evalue": "'Paris' is not in list",
     "output_type": "error",
     "traceback": [
      "\u001b[1;31m---------------------------------------------------------------------------\u001b[0m",
      "\u001b[1;31mValueError\u001b[0m                                Traceback (most recent call last)",
      "\u001b[1;32m~\\AppData\\Local\\Temp/ipykernel_26212/1683034398.py\u001b[0m in \u001b[0;36m<module>\u001b[1;34m\u001b[0m\n\u001b[1;32m----> 1\u001b[1;33m \u001b[0mL\u001b[0m\u001b[1;33m.\u001b[0m\u001b[0mindex\u001b[0m\u001b[1;33m(\u001b[0m\u001b[1;34m'Paris'\u001b[0m\u001b[1;33m)\u001b[0m\u001b[1;33m\u001b[0m\u001b[1;33m\u001b[0m\u001b[0m\n\u001b[0m",
      "\u001b[1;31mValueError\u001b[0m: 'Paris' is not in list"
     ]
    }
   ],
   "source": [
    "L.index('Paris')"
   ]
  },
  {
   "cell_type": "code",
   "execution_count": 50,
   "id": "595e68d0",
   "metadata": {},
   "outputs": [
    {
     "data": {
      "text/plain": [
       "[2, 'Shiraz', 'Ahvaz', 'Mashad', 'Mashad', ['X', 'Y']]"
      ]
     },
     "execution_count": 50,
     "metadata": {},
     "output_type": "execute_result"
    }
   ],
   "source": [
    "L.remove('Tehran')\n",
    "L"
   ]
  },
  {
   "cell_type": "code",
   "execution_count": null,
   "id": "624ed843",
   "metadata": {},
   "outputs": [],
   "source": []
  },
  {
   "cell_type": "markdown",
   "id": "8a4da891",
   "metadata": {},
   "source": [
    "## List comprehensions"
   ]
  },
  {
   "cell_type": "code",
   "execution_count": 37,
   "id": "8bbf1a29",
   "metadata": {},
   "outputs": [
    {
     "data": {
      "text/plain": [
       "['Tehran', 'Shiraz', 'Ahvaz', 'Mashad', 'Mashad']"
      ]
     },
     "execution_count": 37,
     "metadata": {},
     "output_type": "execute_result"
    }
   ],
   "source": [
    "A=[ l for l in L if type(l)==str ]\n",
    "A"
   ]
  },
  {
   "cell_type": "code",
   "execution_count": 51,
   "id": "7051508f",
   "metadata": {},
   "outputs": [
    {
     "data": {
      "text/plain": [
       "range(0, 5)"
      ]
     },
     "execution_count": 51,
     "metadata": {},
     "output_type": "execute_result"
    }
   ],
   "source": [
    "range(5)"
   ]
  },
  {
   "cell_type": "code",
   "execution_count": 40,
   "id": "455ff63f",
   "metadata": {},
   "outputs": [
    {
     "data": {
      "text/plain": [
       "[0, 1, 2, 3, 4]"
      ]
     },
     "execution_count": 40,
     "metadata": {},
     "output_type": "execute_result"
    }
   ],
   "source": [
    "list(range(5))"
   ]
  },
  {
   "cell_type": "code",
   "execution_count": 43,
   "id": "026f13e6",
   "metadata": {},
   "outputs": [
    {
     "data": {
      "text/plain": [
       "[0, 2, 4, 6, 8, 10]"
      ]
     },
     "execution_count": 43,
     "metadata": {},
     "output_type": "execute_result"
    }
   ],
   "source": [
    "B=[ 2*x for x in range(6) ]\n",
    "B"
   ]
  },
  {
   "cell_type": "code",
   "execution_count": 44,
   "id": "ab32b281",
   "metadata": {},
   "outputs": [
    {
     "data": {
      "text/plain": [
       "[(0, 0),\n",
       " (1, 1),\n",
       " (2, 4),\n",
       " (3, 9),\n",
       " (4, 16),\n",
       " (5, 25),\n",
       " (6, 36),\n",
       " (7, 49),\n",
       " (8, 64),\n",
       " (9, 81)]"
      ]
     },
     "execution_count": 44,
     "metadata": {},
     "output_type": "execute_result"
    }
   ],
   "source": [
    "C=[(x, x**2) for x in range(10)  ]\n",
    "C"
   ]
  },
  {
   "cell_type": "markdown",
   "id": "1e875f4c",
   "metadata": {},
   "source": [
    "# Strings"
   ]
  },
  {
   "cell_type": "code",
   "execution_count": 75,
   "id": "70964861",
   "metadata": {},
   "outputs": [
    {
     "data": {
      "text/plain": [
       "'I live in Tehran.'"
      ]
     },
     "execution_count": 75,
     "metadata": {},
     "output_type": "execute_result"
    }
   ],
   "source": [
    "x=\"I live in \"\n",
    "y=\"Tehran.\"\n",
    "\n",
    "z=x+y\n",
    "z"
   ]
  },
  {
   "cell_type": "code",
   "execution_count": 52,
   "id": "22dc1c64",
   "metadata": {},
   "outputs": [
    {
     "data": {
      "text/plain": [
       "'I'"
      ]
     },
     "execution_count": 52,
     "metadata": {},
     "output_type": "execute_result"
    }
   ],
   "source": [
    "x[0]"
   ]
  },
  {
   "cell_type": "code",
   "execution_count": 53,
   "id": "9c31b7b7",
   "metadata": {},
   "outputs": [
    {
     "data": {
      "text/plain": [
       "'e'"
      ]
     },
     "execution_count": 53,
     "metadata": {},
     "output_type": "execute_result"
    }
   ],
   "source": [
    "x[5]"
   ]
  },
  {
   "cell_type": "code",
   "execution_count": 76,
   "id": "48518fbb",
   "metadata": {},
   "outputs": [
    {
     "data": {
      "text/plain": [
       "'I live in Abadan.'"
      ]
     },
     "execution_count": 76,
     "metadata": {},
     "output_type": "execute_result"
    }
   ],
   "source": [
    "z.replace('Tehran', 'Abadan')"
   ]
  },
  {
   "cell_type": "code",
   "execution_count": 77,
   "id": "e6d6dc04",
   "metadata": {},
   "outputs": [
    {
     "data": {
      "text/plain": [
       "7"
      ]
     },
     "execution_count": 77,
     "metadata": {},
     "output_type": "execute_result"
    }
   ],
   "source": [
    "z.find('in')"
   ]
  },
  {
   "cell_type": "code",
   "execution_count": 78,
   "id": "1939e410",
   "metadata": {},
   "outputs": [
    {
     "data": {
      "text/plain": [
       "-1"
      ]
     },
     "execution_count": 78,
     "metadata": {},
     "output_type": "execute_result"
    }
   ],
   "source": [
    "z.find('London')"
   ]
  },
  {
   "cell_type": "markdown",
   "id": "d6e1c300",
   "metadata": {},
   "source": [
    "# Conditionals"
   ]
  },
  {
   "cell_type": "code",
   "execution_count": 55,
   "id": "a002b354",
   "metadata": {},
   "outputs": [
    {
     "name": "stdout",
     "output_type": "stream",
     "text": [
      "x is greater than two!\n"
     ]
    }
   ],
   "source": [
    "x= 2.3\n",
    "\n",
    "if x>2:\n",
    "    print(\"x is greater than two!\")\n",
    "elif x==2:\n",
    "    print(\" x equals two!\")\n",
    "else:\n",
    "    print(\"x is less than two!\")"
   ]
  },
  {
   "cell_type": "markdown",
   "id": "a7e887a9",
   "metadata": {},
   "source": [
    "# Loops"
   ]
  },
  {
   "cell_type": "code",
   "execution_count": 57,
   "id": "dd1803f3",
   "metadata": {},
   "outputs": [
    {
     "name": "stdout",
     "output_type": "stream",
     "text": [
      "2\n",
      "Shiraz\n",
      "Ahvaz\n",
      "Mashad\n",
      "Mashad\n",
      "['X', 'Y']\n"
     ]
    }
   ],
   "source": [
    "for x in L:\n",
    "    print(x)"
   ]
  },
  {
   "cell_type": "code",
   "execution_count": 58,
   "id": "3e82b0b6",
   "metadata": {},
   "outputs": [
    {
     "name": "stdout",
     "output_type": "stream",
     "text": [
      "0 1 2 3 4 5 "
     ]
    }
   ],
   "source": [
    "for x in range(10):\n",
    "    print(x, end=' ')\n",
    "    \n",
    "    if x>=5:\n",
    "        break"
   ]
  },
  {
   "cell_type": "code",
   "execution_count": null,
   "id": "4db53700",
   "metadata": {},
   "outputs": [],
   "source": []
  },
  {
   "cell_type": "markdown",
   "id": "d00fcce4",
   "metadata": {},
   "source": [
    "# Dictionaries"
   ]
  },
  {
   "cell_type": "code",
   "execution_count": 64,
   "id": "890ab21f",
   "metadata": {},
   "outputs": [
    {
     "data": {
      "text/plain": [
       "'male'"
      ]
     },
     "execution_count": 64,
     "metadata": {},
     "output_type": "execute_result"
    }
   ],
   "source": [
    "D={ 'Hamid': 'male',\n",
    "    'Elham': 'female',\n",
    "     'Siavash': 'male'\n",
    "      }\n",
    "\n",
    "D['Hamid']"
   ]
  },
  {
   "cell_type": "code",
   "execution_count": 65,
   "id": "edd1dc3f",
   "metadata": {},
   "outputs": [
    {
     "ename": "KeyError",
     "evalue": "'Ahmad'",
     "output_type": "error",
     "traceback": [
      "\u001b[1;31m---------------------------------------------------------------------------\u001b[0m",
      "\u001b[1;31mKeyError\u001b[0m                                  Traceback (most recent call last)",
      "\u001b[1;32m~\\AppData\\Local\\Temp/ipykernel_26212/3057005827.py\u001b[0m in \u001b[0;36m<module>\u001b[1;34m\u001b[0m\n\u001b[1;32m----> 1\u001b[1;33m \u001b[0mD\u001b[0m\u001b[1;33m[\u001b[0m\u001b[1;34m'Ahmad'\u001b[0m\u001b[1;33m]\u001b[0m\u001b[1;33m\u001b[0m\u001b[1;33m\u001b[0m\u001b[0m\n\u001b[0m",
      "\u001b[1;31mKeyError\u001b[0m: 'Ahmad'"
     ]
    }
   ],
   "source": [
    "D['Ahmad']"
   ]
  },
  {
   "cell_type": "code",
   "execution_count": 66,
   "id": "0f4e71c1",
   "metadata": {},
   "outputs": [],
   "source": [
    "D['Ahmad']='male'"
   ]
  },
  {
   "cell_type": "code",
   "execution_count": 67,
   "id": "86e260ac",
   "metadata": {},
   "outputs": [
    {
     "data": {
      "text/plain": [
       "'male'"
      ]
     },
     "execution_count": 67,
     "metadata": {},
     "output_type": "execute_result"
    }
   ],
   "source": [
    "D['Ahmad']"
   ]
  },
  {
   "cell_type": "markdown",
   "id": "dc805028",
   "metadata": {},
   "source": [
    "# Functions"
   ]
  },
  {
   "cell_type": "code",
   "execution_count": null,
   "id": "8e3d047e",
   "metadata": {},
   "outputs": [],
   "source": []
  },
  {
   "cell_type": "code",
   "execution_count": 60,
   "id": "0201b7d4",
   "metadata": {},
   "outputs": [],
   "source": [
    "def func(x,y):\n",
    "    if x>y:\n",
    "        return x\n",
    "    else:\n",
    "        return y"
   ]
  },
  {
   "cell_type": "code",
   "execution_count": 62,
   "id": "02be9618",
   "metadata": {},
   "outputs": [
    {
     "data": {
      "text/plain": [
       "3"
      ]
     },
     "execution_count": 62,
     "metadata": {},
     "output_type": "execute_result"
    }
   ],
   "source": [
    "func(2,3)"
   ]
  },
  {
   "cell_type": "code",
   "execution_count": 63,
   "id": "9ae8344f",
   "metadata": {},
   "outputs": [
    {
     "data": {
      "text/plain": [
       "(5, 6)"
      ]
     },
     "execution_count": 63,
     "metadata": {},
     "output_type": "execute_result"
    }
   ],
   "source": [
    "def f(x,y):\n",
    "    return x+y, x*y\n",
    "\n",
    "\n",
    "f(2,3)"
   ]
  },
  {
   "cell_type": "markdown",
   "id": "c8b17966",
   "metadata": {},
   "source": [
    "# File I/O"
   ]
  },
  {
   "cell_type": "code",
   "execution_count": 69,
   "id": "ef345cd6",
   "metadata": {},
   "outputs": [],
   "source": [
    "f=open(\"myfile.txt\", \"w\")\n",
    "print(\"1\\n 2\\n 3\\n 4\", file=f)\n",
    "f.close()\n",
    "    "
   ]
  },
  {
   "cell_type": "code",
   "execution_count": 70,
   "id": "affde98f",
   "metadata": {},
   "outputs": [
    {
     "data": {
      "text/plain": [
       "['1\\n', ' 2\\n', ' 3\\n', ' 4\\n']"
      ]
     },
     "execution_count": 70,
     "metadata": {},
     "output_type": "execute_result"
    }
   ],
   "source": [
    "f=open(\"myfile.txt\", 'r')\n",
    "L=f.readlines()\n",
    "f.close()\n",
    "L"
   ]
  },
  {
   "cell_type": "code",
   "execution_count": 72,
   "id": "d0ecdcb1",
   "metadata": {},
   "outputs": [
    {
     "data": {
      "text/plain": [
       "['1', '2', '3', '4']"
      ]
     },
     "execution_count": 72,
     "metadata": {},
     "output_type": "execute_result"
    }
   ],
   "source": [
    "K=[ l.lstrip().rstrip() for l in L]\n",
    "K"
   ]
  },
  {
   "cell_type": "code",
   "execution_count": 73,
   "id": "30bb2cf0",
   "metadata": {},
   "outputs": [
    {
     "data": {
      "text/plain": [
       "[1.0, 2.0, 3.0, 4.0]"
      ]
     },
     "execution_count": 73,
     "metadata": {},
     "output_type": "execute_result"
    }
   ],
   "source": [
    "M=[float(x) for x in K]\n",
    "M"
   ]
  },
  {
   "cell_type": "markdown",
   "id": "4f127c2f",
   "metadata": {},
   "source": [
    "# Exercises"
   ]
  },
  {
   "cell_type": "markdown",
   "id": "78e4f8e5",
   "metadata": {},
   "source": [
    "## Write a function that takes a date of the form jan-08-2018 and converts it to the form 08/01/2018"
   ]
  },
  {
   "cell_type": "code",
   "execution_count": null,
   "id": "447f0f2b",
   "metadata": {},
   "outputs": [],
   "source": []
  },
  {
   "cell_type": "markdown",
   "id": "4e5c5776",
   "metadata": {},
   "source": [
    "## Write a function that computes exp(x)  using the formula exp(x)=1+x+x^2/2!+x^3/3!+..."
   ]
  },
  {
   "cell_type": "markdown",
   "id": "7eda5c30",
   "metadata": {},
   "source": [
    "Stop when error is less than 0.001. Implement the factorial yourself!"
   ]
  },
  {
   "cell_type": "markdown",
   "id": "67471e35",
   "metadata": {},
   "source": [
    "# Further learning"
   ]
  },
  {
   "cell_type": "markdown",
   "id": "6ea94812",
   "metadata": {},
   "source": [
    "Charles Severance, Python for Everybody (Available online)"
   ]
  },
  {
   "cell_type": "code",
   "execution_count": null,
   "id": "0ad5067d",
   "metadata": {},
   "outputs": [],
   "source": []
  }
 ],
 "metadata": {
  "kernelspec": {
   "display_name": "Python 3 (ipykernel)",
   "language": "python",
   "name": "python3"
  },
  "language_info": {
   "codemirror_mode": {
    "name": "ipython",
    "version": 3
   },
   "file_extension": ".py",
   "mimetype": "text/x-python",
   "name": "python",
   "nbconvert_exporter": "python",
   "pygments_lexer": "ipython3",
   "version": "3.8.12"
  }
 },
 "nbformat": 4,
 "nbformat_minor": 5
}
